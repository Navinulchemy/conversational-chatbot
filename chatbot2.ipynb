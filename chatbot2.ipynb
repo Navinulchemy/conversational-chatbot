{
 "cells": [
  {
   "cell_type": "markdown",
   "id": "a607968d",
   "metadata": {},
   "source": [
    "### Importing necessary libraries"
   ]
  },
  {
   "cell_type": "code",
   "execution_count": 1,
   "id": "b25f3533",
   "metadata": {},
   "outputs": [],
   "source": [
    "import nltk\n",
    "from nltk.stem import WordNetLemmatizer\n",
    "import pickle\n",
    "import numpy as np\n",
    "from keras.models import load_model\n",
    "import json\n",
    "import random\n",
    "import tkinter\n",
    "from tkinter import *"
   ]
  },
  {
   "cell_type": "markdown",
   "id": "23602b99",
   "metadata": {},
   "source": [
    "### Loading the pretrained model,saved pickle files"
   ]
  },
  {
   "cell_type": "code",
   "execution_count": 2,
   "id": "734bd7bf",
   "metadata": {},
   "outputs": [],
   "source": [
    "## Initializing lemmatizer and loading the pre-trained model, intents and words..\n",
    "lemmatizer = WordNetLemmatizer()\n",
    "model = load_model('chatbot_model.h5')\n",
    "intents = json.loads(open('intents.json').read())\n",
    "words = pickle.load(open('words.pkl','rb'))\n",
    "classes = pickle.load(open('classes.pkl','rb'))"
   ]
  },
  {
   "cell_type": "markdown",
   "id": "9dd69519",
   "metadata": {},
   "source": [
    "### preprocessing the user data"
   ]
  },
  {
   "cell_type": "code",
   "execution_count": 3,
   "id": "383d805d",
   "metadata": {},
   "outputs": [],
   "source": [
    "def clean_up_sentence(sentence):\n",
    "    # tokenizing the sentences(spliiting the content into individuals)\n",
    "    sentence_words = nltk.word_tokenize(sentence)\n",
    "    \n",
    "    # stemming each word (shrinking the words to base form)\n",
    "    sentence_words = [lemmatizer.lemmatize(word.lower()) for word in sentence_words]\n",
    "    return sentence_words"
   ]
  },
  {
   "cell_type": "code",
   "execution_count": 4,
   "id": "04bde51e",
   "metadata": {},
   "outputs": [],
   "source": [
    "# returning bag of words array: 0 or 1 for each word in the bag that exists in the sentence\n",
    "\n",
    "def bow(sentence, words):\n",
    "    \n",
    "    # calling the cleanup function to tokenize and lemmatize the pattern\n",
    "    sentence_words = clean_up_sentence(sentence)\n",
    "    \n",
    "    # bag of words - matrix of N words, vocabulary matrix\n",
    "    bag = [0]*len(words)\n",
    "    for s in sentence_words:\n",
    "        for i,w in enumerate(words):\n",
    "            if w == s: \n",
    "                \n",
    "                # will assign 1 if current word is in the vocabulary position\n",
    "                bag[i] = 1\n",
    "    return(np.array(bag))"
   ]
  },
  {
   "cell_type": "markdown",
   "id": "9554ebe2",
   "metadata": {},
   "source": [
    "### predicting the result tag with pre trained model"
   ]
  },
  {
   "cell_type": "code",
   "execution_count": 5,
   "id": "5297f779",
   "metadata": {},
   "outputs": [],
   "source": [
    "#Returns a list of intents (classes) with associated probabilities that the sentence belongs to..\n",
    "\n",
    "def predict_class(sentence, model):\n",
    "    \n",
    "    # filtering out the predictions below a threshold\n",
    "    p = bow(sentence, words)\n",
    "    res = model.predict(np.array([p]))[0]\n",
    "    ERROR_THRESHOLD = 0.25\n",
    "    results = [[i,r] for i,r in enumerate(res) if r>ERROR_THRESHOLD]\n",
    "    \n",
    "    # sort by strength of probability\n",
    "    results.sort(key=lambda x: x[1], reverse=True)\n",
    "    return_list = []\n",
    "    \n",
    "    for r in results:\n",
    "        return_list.append({\"intent\": classes[r[0]], \"probability\": str(r[1])})\n",
    "    return return_list"
   ]
  },
  {
   "cell_type": "markdown",
   "id": "cb9edff8",
   "metadata": {},
   "source": [
    "### returning the response according to the tag"
   ]
  },
  {
   "cell_type": "code",
   "execution_count": 6,
   "id": "3b3a942c",
   "metadata": {},
   "outputs": [],
   "source": [
    "#Returns a random response corresponding to the highest-probability intent..\n",
    "def getResponse(ints, intents_json):\n",
    "    tag = ints[0]['intent']\n",
    "    list_of_intents = intents_json['intents']\n",
    "    for i in list_of_intents:\n",
    "        if(i['tag']== tag):\n",
    "            result = random.choice(i['responses'])\n",
    "            break\n",
    "    return result       "
   ]
  },
  {
   "cell_type": "code",
   "execution_count": 7,
   "id": "93549730",
   "metadata": {},
   "outputs": [],
   "source": [
    "#returns the result\n",
    "def chatbot_response(text):\n",
    "    try:\n",
    "     ints = predict_class(text, model)\n",
    "     res = getResponse(ints, intents)\n",
    "     return res\n",
    "\n",
    "    except Exception as e:\n",
    "     return \"can't understand check the input and try again\""
   ]
  },
  {
   "cell_type": "markdown",
   "id": "f3e56d34",
   "metadata": {},
   "source": [
    "### Creating a GUI with tkinter"
   ]
  },
  {
   "cell_type": "code",
   "execution_count": 19,
   "id": "5652aedf",
   "metadata": {},
   "outputs": [],
   "source": [
    "def send():\n",
    "    msg = EntryBox.get(\"1.0\",'end-1c').strip()\n",
    "    EntryBox.delete(\"0.0\",END)\n",
    "    \n",
    "    \n",
    "    if msg not in['',\"asde\",\"hg\",\"qw\",\"z3e\",'asd','gyt']:\n",
    "        ChatLog.config(state=NORMAL)\n",
    "        ChatLog.insert(END, \"You: \" + msg + '\\n\\n')\n",
    "        ChatLog.config(foreground=\"#17202A\", font=(\"raleway\", 11 ))\n",
    "        res = chatbot_response(msg)\n",
    "        ChatLog.insert(END, \"Bot: \" + res + '\\n\\n')\n",
    "        ChatLog.config(state=DISABLED)\n",
    "        ChatLog.yview(END)\n",
    "    else:\n",
    "        ChatLog.config(state=NORMAL)\n",
    "        ChatLog.insert(END, \"You: \" + msg + '\\n\\n')\n",
    "        ChatLog.config(foreground=\"#17202A\", font=(\"raleway\", 11 ))\n",
    "        ChatLog.insert(END, \"Bot: \" + \"invalid input check your input and try again\" + '\\n\\n')\n",
    "        ChatLog.config(state=DISABLED)\n",
    "        ChatLog.yview(END)\n",
    "        \n",
    "        \n",
    "base = Tk()\n",
    "base.title(\"BOT\")\n",
    "base.geometry(\"500x500\")\n",
    "base.resizable(width=FALSE, height=FALSE)\n",
    "\n",
    "#Creating Chat window\n",
    "ChatLog = Text(base, bd=0, bg=\"#EBF5FB\", height=\"6\", width=\"800\", font=\"raleway\",)\n",
    "ChatLog.config(state=DISABLED)\n",
    "\n",
    "#Binding scrollbar to Chat window\n",
    "scrollbar = Scrollbar(base, command=ChatLog.yview, cursor=\"heart\")\n",
    "ChatLog['yscrollcommand'] = scrollbar.set\n",
    "\n",
    "#Creating Button to send message\n",
    "SendButton = Button(base, font=(\"raleway\",12,'bold'), text=\"Send\", width=\"12\", height=\"5\", bd=0, bg=\"#2E86C1\", activebackground=\"#F4D03F\",fg='#ffffff', command= send )\n",
    "\n",
    "#Creating the box to enter message\n",
    "EntryBox = Text(base, bd=0, bg=\"#5D6D7E\",width=\"29\", height=\"5\",fg='#ffffff', font=\"raleway\",insertbackground='white',insertwidth=5\n",
    "\n",
    "#Placing all components on the screen\n",
    "scrollbar.place(x=471,y=6, height=386)\n",
    "ChatLog.place(x=6,y=6, height=386, width=470)\n",
    "EntryBox.place(x=135, y=401, height=90, width=338)\n",
    "SendButton.place(x=6, y=401, height=90,width=120)\n",
    "base.mainloop()"
   ]
  }
 ],
 "metadata": {
  "kernelspec": {
   "display_name": "Python 3 (ipykernel)",
   "language": "python",
   "name": "python3"
  },
  "language_info": {
   "codemirror_mode": {
    "name": "ipython",
    "version": 3
   },
   "file_extension": ".py",
   "mimetype": "text/x-python",
   "name": "python",
   "nbconvert_exporter": "python",
   "pygments_lexer": "ipython3",
   "version": "3.10.6"
  }
 },
 "nbformat": 4,
 "nbformat_minor": 5
}
